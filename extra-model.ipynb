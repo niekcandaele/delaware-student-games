{
 "metadata": {
  "language_info": {
   "codemirror_mode": {
    "name": "ipython",
    "version": 3
   },
   "file_extension": ".py",
   "mimetype": "text/x-python",
   "name": "python",
   "nbconvert_exporter": "python",
   "pygments_lexer": "ipython3",
   "version": "3.8.5-final"
  },
  "orig_nbformat": 2,
  "kernelspec": {
   "name": "python3",
   "display_name": "Python 3.8.5 64-bit ('venv-dela': venv)",
   "metadata": {
    "interpreter": {
     "hash": "46d15abaffed259f5ec8674090e05e423f5b3461cc78fd798fed7fc79b446f8e"
    }
   }
  }
 },
 "nbformat": 4,
 "nbformat_minor": 2,
 "cells": [
  {
   "cell_type": "code",
   "execution_count": 7,
   "metadata": {},
   "outputs": [],
   "source": [
    "articleText = \"\"\"\n",
    "‘Je proeft hier dagelijks een ongelofelijke ambitie’ \n",
    "    \n",
    "        Rafael Romo: ‘Ik ben afkomstig van Turén, een gemeente met iets meer dan 70.000 inwoners in de staat Portuguesa in Venezuela. Echt het platteland. De mensen leven er volop van de landbouw. Ze zijn eigenlijk constant bezig met gronden bewerken en dieren houden. Ook ik ben afkomstig van een vrij grote boerderij, waar de familietraditie werd verdergezet. Wij hebben koeien en gebruiken de melk voor onze eigen kaas. Er was altijd veel beweging bij ons thuis: de buren kwamen langs, maar ook andere dorpsgenoten. Onze economie is sterk gericht op ruil, maar wij leverden onze producten ook aan grote distributeurs.’ \n",
    "    \n",
    "    Dierenarts \n",
    "    ‘Ik overwoog ooit om aan de universiteit te gaan studeren voor dierenarts, maar de passie voor voetbal haalde het. Mijn hele jeugd stond wel in het teken van het helpen op de boerderij. We kweekten paarden, geiten en varkens, maar we slachtten ze ook. Het vlees aten we zelf of verkochten we. Mijn ouders, ondertussen gescheiden, waren daar dag en nacht mee bezig. Nu staat mijn mama nog elke ochtend op om 5 uur en werkt ze dan door, tot vaak 21 of 22 uur ’s avonds. Mijn respect voor haar is ongelofelijk groot. Ik heb één broer José, hij is drie jaar jonger en ook voetbalprof. Hij speelt in de spits bij het Cypriotische Karmiotissa Pano Polemidion. En ik heb, door papa, nog een oudere en een jongere stiefbroer. \n",
    "      ‘Vanaf mijn negende sloot ik me aan bij de jeugdacademie van Atlético Turén. Mijn voorouders kwamen uit Spanje en ze hadden een sterke link met voetbal. Opa was één van de oprichters van Atlético Turén. Mijn vader stond er ooit in doel en slaagde er zelfs in om prof te worden in Venezuela. Het was dus ergens logisch dat ik ook voor die positie koos. \n",
    "      ‘Amper zes maanden nadat ik bij Atlético Turén in tweede klasse als zeventienjarige debuteerde, kreeg ik de kans om te tekenen bij Llaneros de Guanare. Er volgde al snel een selectie voor het WK U20 in de Zuid-Amerikaanse kwalificatiepoule. We eindigden vierde en mochten in 2009 meedoen aan het WK. Daar speelde ik me in de kijker van scouts van Udinese. Als negentienjarige kwam die opportuniteit van de Serie A er plots. Ik ging onmiddellijk in op hun aanbod. Alleen kwam die stap er te snel. Tactisch en technisch volstond mijn niveau niet, waardoor ik eigenlijk drie jaar verloor. Ik voel me niet te beroerd om dat toe te geven. \n",
    "      ‘Bovendien stond Samir Handanovic daar toen als titularis onder de lat. Een klasbak. Hij komt nu, op zijn 36e, nog altijd uit voor Inter. In Venezuela had ik ook nooit samengewerkt met een specifieke doelmannentrainer. De aanpassing in Europa verliep dus moeizamer dan voorzien. Na twee of drie maanden besefte ik dat de integratie en het vertrouwen er niet kwam, omdat ik eigenlijk een echte amateur was. Puur technisch begon ik vrijwel vanop nul, ondanks het feit dat ik wel talent had. Alleen krijg je daar, in zo’n topcompetitie, niet de tijd die je nodig hebt om je aan te passen. \n",
    "      ‘Op mijn eigen vraag werd ik verhuurd aan Estudiantes de Mérida in Venezuela. Een bewuste keuze, door de vertrouwdheid met de competitie en vooral ook door de mogelijkheden voor de nationale ploeg. In het begin twijfelde Udinese wat, maar ze begrepen snel dat ik streefde naar een win-winsituatie. Later gebeurde hetzelfde met Mineros de Guayana. Dat ik in totaal maar één keer speelde in de Serie A, een 3-1-nederlaag tegen Lazio in mei 2010, bevestigde dat ik met die uitleenbeurten de juiste keuze maakte.’  \n",
    "    \n",
    "    Mister clean sheet \n",
    "    ‘Ook al kende ik een atypisch parcours, met vele stationnetjes en soms korte passages, ik bestempel mezelf niet als een voetbalnomade. Ik leerde ondertussen al wel dat je in profvoetbal maar moeilijk kan plannen. Alle beslissingen neem ik altijd in functie van en na overleg met mijn gezin. Vaak heb je echter zelf niet alles in de hand. Ik tekende voor drie seizoenen bij Apoel Nicosia, maar werd al na enkele dagen verhuurd aan Beerschot-Wilrijk. Daar werd ik ‘mister clean sheet’, na een prachtig seizoen in tweede klasse. Plots vroegen ze in Cyprus een transfersom die buiten proportie was. Ik keerde dan terug en kwam wat in conflict met de coach. We vonden een deal en ik mocht transfervrij naar Denemarken, waar ik bij Silkeborg een nieuwe competitie mocht ontdekken. \n",
    "      ‘Afgelopen zomer stond ik op het punt om naar Lech Poznan te gaan, waar de financiële voorwaarden aantrekkelijk waren. Ik stond al op de luchthaven om in Polen te gaan tekenen, toen OH Leuven met een aanbod kwam. Mijn vrouw en ik wisten meteen dat we die trein niet mochten missen. We slaakten zelfs een vreugdekreet, want we raakten echt verknocht aan België. Mijn echtgenote was altijd gecharmeerd door jullie hartelijkheid en behulpzaam karakter. Ons dochtertje Rafaela werd eind december 2017 trouwens in het UZ van Antwerpen geboren. Letizia kwam vier en een half jaar geleden ter wereld in Venezuela. We kregen altijd veel hulp in België. (grijnst) Enkel het weer hier is niet hetzelfde als in Venezuela. \n",
    "      ‘Hoe ik bij OH Leuven terechtkwam? Het was td Wim De Corte die eerst mijn makelaar contacteerde. Daarna sprak ik zelf met keepertrainer Bram Verbist en met Marc Brys. We zaten meteen op dezelfde golflengte. Ook al omdat we elkaar al kenden van bij Beerschot en voelden dat hier iets moois zal worden neergezet. Graag zou ik ook bij OH Leuven een reputatie opbouwen van moeilijk te passeren doelman en opnieuw records neerzetten. Je proeft hier dagelijks een ongelofelijke ambitie. Iedereen pusht elkaar hier naar een hoger niveau. Het hele plaatje klopt om door te groeien naar een Belgische topclub. Het doet me wat terugdenken aan Udinese.’ \n",
    "    \n",
    "    Mensenkenner \n",
    "    ‘Onze coach is een echte mensenkenner. Ik beschouw hem als een vader, maar vooral als een vriend. Hij zorgde ervoor dat ik mijn grenzen verlegde, hij heeft dus zeker een aandeel in mijn persoonlijke ontwikkeling. De trainer is streng maar bijzonder correct. Daarom dwingt hij ook zoveel respect af. (grijnst) Fysiek is hij de meest veeleisende die ik ooit al meemaakte. En die aanpak loont. \n",
    "      ‘Ik tekende tot 2022, maar kijk – gezien mijn verleden – niet te ver vooruit. Door de huidige moeilijke situatie in Venezuela lijkt een terugkeer onrealistisch. Heel wat van onze familie woont in de buurt van Barcelona. Dat is dus een mogelijkheid die we zeker achter de hand houden. Voor onze kinderen en hun toekomst zou het beter zijn om in Europa te blijven. In mijn hoofd zie ik mezelf zeker nog zes tot acht jaar meedraaien. Eigenlijk zit ik nu, op mijn dertigste, in een gunstige curve. Naar mijn gevoel zit ik nu aan 70 tot 75 procent van mijn mogelijkheden. \n",
    "      ‘De belangrijkste details waar ik aan schaaf, zijn het voetenspel en het nemen van de juiste beslissingen onder druk. Ik kijk veel naar Jan Oblak van Atlético Madrid. Een actieve doelman, die niet enkel teert op zijn lijnreflexen maar ook goed het spel goed leest en durft uit te komen. \n",
    "      ‘Ik profiteer momenteel van de juiste teambalans. Het is knap van de technische staf dat spelers zoals Kamal Sowah en Thomas Henry zo probleemloos meedraaien in de hoogste reeks. Want ik zag hen nog aan het werk in 1B. OH Leuven verdient na dit mooie seizoen zeker een plaats bij de eerste vier. Het mag ook dromen van een plek in play-off 1. Als underdog kunnen stunten, dat blijft het meest plezante in de sport. Wij voelen ons uitstekend in die rol.’  \n",
    "    \n",
    "    \n",
    "\"\"\""
   ]
  },
  {
   "cell_type": "code",
   "execution_count": 28,
   "metadata": {},
   "outputs": [],
   "source": [
    "import spacy\n",
    "from spacy.lang.nl.stop_words import STOP_WORDS\n",
    "from string import punctuation\n",
    "import re"
   ]
  },
  {
   "cell_type": "code",
   "execution_count": 9,
   "metadata": {},
   "outputs": [],
   "source": [
    "nlp = spacy.load('nl_core_news_lg')"
   ]
  },
  {
   "cell_type": "code",
   "execution_count": 10,
   "metadata": {},
   "outputs": [],
   "source": [
    "docx = nlp(articleText)\n",
    "sentence_list = [ sentence for sentence in docx.sents ]"
   ]
  },
  {
   "cell_type": "code",
   "execution_count": 63,
   "metadata": {},
   "outputs": [
    {
     "output_type": "stream",
     "name": "stdout",
     "text": [
      "[{'length': 1, 'containsNumbers': 0, 'avgWordLen': 0, 'labels': []}, {'length': 13, 'containsNumbers': 0, 'avgWordLen': 6.333333333333333, 'labels': [dagelijks, Rafael Romo]}, {'length': 22, 'containsNumbers': 5, 'avgWordLen': 4.947368421052632, 'labels': [Turén, 70.000, Portuguesa, Venezuela]}, {'length': 4, 'containsNumbers': 0, 'avgWordLen': 6.0, 'labels': []}, {'length': 9, 'containsNumbers': 0, 'avgWordLen': 4.25, 'labels': []}, {'length': 12, 'containsNumbers': 0, 'avgWordLen': 5.545454545454546, 'labels': []}, {'length': 16, 'containsNumbers': 0, 'avgWordLen': 5.642857142857143, 'labels': []}, {'length': 12, 'containsNumbers': 0, 'avgWordLen': 4.545454545454546, 'labels': []}, {'length': 9, 'containsNumbers': 0, 'avgWordLen': 4.375, 'labels': []}, {'length': 10, 'containsNumbers': 0, 'avgWordLen': 5.625, 'labels': []}, {'length': 18, 'containsNumbers': 0, 'avgWordLen': 5.375, 'labels': []}, {'length': 5, 'containsNumbers': 0, 'avgWordLen': 4.0, 'labels': []}, {'length': 21, 'containsNumbers': 0, 'avgWordLen': 5.0, 'labels': []}, {'length': 15, 'containsNumbers': 0, 'avgWordLen': 4.071428571428571, 'labels': []}, {'length': 14, 'containsNumbers': 0, 'avgWordLen': 5.0, 'labels': []}, {'length': 9, 'containsNumbers': 0, 'avgWordLen': 4.125, 'labels': []}, {'length': 14, 'containsNumbers': 0, 'avgWordLen': 5.545454545454546, 'labels': [nacht]}, {'length': 26, 'containsNumbers': 5, 'avgWordLen': 3.2916666666666665, 'labels': [5 uur, 21, 22 uur]}, {'length': 8, 'containsNumbers': 0, 'avgWordLen': 5.571428571428571, 'labels': []}, {'length': 15, 'containsNumbers': 0, 'avgWordLen': 4.153846153846154, 'labels': [één, José, drie jaar]}, {'length': 12, 'containsNumbers': 0, 'avgWordLen': 5.636363636363637, 'labels': [Cypriotische Karmiotissa]}, {'length': 15, 'containsNumbers': 0, 'avgWordLen': 4.333333333333333, 'labels': []}, {'length': 2, 'containsNumbers': 0, 'avgWordLen': 1.0, 'labels': []}, {'length': 14, 'containsNumbers': 0, 'avgWordLen': 4.846153846153846, 'labels': [negende, Atlético Turén]}, {'length': 14, 'containsNumbers': 0, 'avgWordLen': 4.846153846153846, 'labels': [Spanje]}, {'length': 10, 'containsNumbers': 0, 'avgWordLen': 4.555555555555555, 'labels': [Opa, één, Atlético Turén]}, {'length': 19, 'containsNumbers': 0, 'avgWordLen': 3.888888888888889, 'labels': [Venezuela]}, {'length': 13, 'containsNumbers': 0, 'avgWordLen': 4.083333333333333, 'labels': []}, {'length': 17, 'containsNumbers': 0, 'avgWordLen': 5.857142857142857, 'labels': [zes maanden, Atlético Turén, tweede]}, {'length': 12, 'containsNumbers': 0, 'avgWordLen': 4.090909090909091, 'labels': [Llaneros de Guanare]}, {'length': 15, 'containsNumbers': 2, 'avgWordLen': 5.357142857142857, 'labels': [WK U20, Zuid-Amerikaanse]}, {'length': 12, 'containsNumbers': 4, 'avgWordLen': 4.363636363636363, 'labels': [vierde, 2009, WK]}, {'length': 12, 'containsNumbers': 0, 'avgWordLen': 4.090909090909091, 'labels': [Udinese]}, {'length': 12, 'containsNumbers': 0, 'avgWordLen': 5.181818181818182, 'labels': []}, {'length': 8, 'containsNumbers': 0, 'avgWordLen': 4.571428571428571, 'labels': []}, {'length': 8, 'containsNumbers': 0, 'avgWordLen': 3.7142857142857144, 'labels': []}, {'length': 15, 'containsNumbers': 0, 'avgWordLen': 5.923076923076923, 'labels': [drie jaar]}, {'length': 12, 'containsNumbers': 0, 'avgWordLen': 3.3636363636363638, 'labels': []}, {'length': 2, 'containsNumbers': 0, 'avgWordLen': 1.0, 'labels': []}, {'length': 11, 'containsNumbers': 0, 'avgWordLen': 5.454545454545454, 'labels': [Samir Handanovic]}, {'length': 3, 'containsNumbers': 0, 'avgWordLen': 5.5, 'labels': []}, {'length': 14, 'containsNumbers': 2, 'avgWordLen': 3.8181818181818183, 'labels': [36e]}, {'length': 12, 'containsNumbers': 0, 'avgWordLen': 6.363636363636363, 'labels': [Venezuela]}, {'length': 10, 'containsNumbers': 0, 'avgWordLen': 5.666666666666667, 'labels': [Europa]}, {'length': 25, 'containsNumbers': 0, 'avgWordLen': 4.521739130434782, 'labels': [twee, drie maanden]}, {'length': 17, 'containsNumbers': 0, 'avgWordLen': 4.533333333333333, 'labels': []}, {'length': 23, 'containsNumbers': 0, 'avgWordLen': 4.105263157894737, 'labels': []}, {'length': 2, 'containsNumbers': 0, 'avgWordLen': 1.0, 'labels': []}, {'length': 14, 'containsNumbers': 0, 'avgWordLen': 4.923076923076923, 'labels': [Estudiantes de, Mérida, Venezuela]}, {'length': 21, 'containsNumbers': 0, 'avgWordLen': 5.315789473684211, 'labels': []}, {'length': 18, 'containsNumbers': 0, 'avgWordLen': 5.25, 'labels': [Udinese]}, {'length': 8, 'containsNumbers': 0, 'avgWordLen': 6.0, 'labels': [Mineros, Guayana]}, {'length': 32, 'containsNumbers': 6, 'avgWordLen': 4.586206896551724, 'labels': [één, 3-1-nederlaag, Lazio, mei 2010]}, {'length': 2, 'containsNumbers': 0, 'avgWordLen': 1.0, 'labels': []}, {'length': 5, 'containsNumbers': 0, 'avgWordLen': 4.25, 'labels': [Mister]}, {'length': 24, 'containsNumbers': 0, 'avgWordLen': 5.380952380952381, 'labels': []}, {'length': 14, 'containsNumbers': 0, 'avgWordLen': 5.0, 'labels': []}, {'length': 15, 'containsNumbers': 0, 'avgWordLen': 4.571428571428571, 'labels': []}, {'length': 10, 'containsNumbers': 0, 'avgWordLen': 3.7, 'labels': []}, {'length': 19, 'containsNumbers': 0, 'avgWordLen': 5.529411764705882, 'labels': [drie, Apoel Nicosia, enkele dagen, Beerschot-Wilrijk]}, {'length': 17, 'containsNumbers': 0, 'avgWordLen': 4.923076923076923, 'labels': [tweede]}, {'length': 12, 'containsNumbers': 0, 'avgWordLen': 5.2727272727272725, 'labels': [Cyprus]}, {'length': 13, 'containsNumbers': 0, 'avgWordLen': 3.8333333333333335, 'labels': []}, {'length': 21, 'containsNumbers': 0, 'avgWordLen': 5.421052631578948, 'labels': [Denemarken, Silkeborg]}, {'length': 23, 'containsNumbers': 0, 'avgWordLen': 5.2631578947368425, 'labels': [Lech, Poznan]}, {'length': 21, 'containsNumbers': 0, 'avgWordLen': 3.9473684210526314, 'labels': [Polen, OH Leuven]}, {'length': 14, 'containsNumbers': 0, 'avgWordLen': 4.3076923076923075, 'labels': []}, {'length': 14, 'containsNumbers': 0, 'avgWordLen': 5.583333333333333, 'labels': [België]}, {'length': 12, 'containsNumbers': 0, 'avgWordLen': 7.090909090909091, 'labels': []}, {'length': 15, 'containsNumbers': 4, 'avgWordLen': 5.357142857142857, 'labels': [Rafaela, december 2017, UZ van Antwerpen]}, {'length': 13, 'containsNumbers': 0, 'avgWordLen': 4.666666666666667, 'labels': [Letizia, vier, half jaar, Venezuela]}, {'length': 11, 'containsNumbers': 0, 'avgWordLen': 5.0, 'labels': [België]}, {'length': 11, 'containsNumbers': 0, 'avgWordLen': 4.6, 'labels': [Venezuela]}, {'length': 2, 'containsNumbers': 0, 'avgWordLen': 1.0, 'labels': []}, {'length': 7, 'containsNumbers': 0, 'avgWordLen': 4.666666666666667, 'labels': [OH Leuven]}, {'length': 12, 'containsNumbers': 0, 'avgWordLen': 4.636363636363637, 'labels': [Wim De Corte]}, {'length': 13, 'containsNumbers': 0, 'avgWordLen': 4.833333333333333, 'labels': [Bram Verbist, Marc Brys]}, {'length': 7, 'containsNumbers': 0, 'avgWordLen': 5.666666666666667, 'labels': []}, {'length': 20, 'containsNumbers': 0, 'avgWordLen': 4.473684210526316, 'labels': [Beerschot]}, {'length': 20, 'containsNumbers': 0, 'avgWordLen': 5.2105263157894735, 'labels': [OH Leuven]}, {'length': 8, 'containsNumbers': 0, 'avgWordLen': 6.428571428571429, 'labels': [dagelijks]}, {'length': 9, 'containsNumbers': 0, 'avgWordLen': 5.25, 'labels': []}, {'length': 13, 'containsNumbers': 0, 'avgWordLen': 4.833333333333333, 'labels': [Belgische]}, {'length': 8, 'containsNumbers': 0, 'avgWordLen': 4.857142857142857, 'labels': [Udinese]}, {'length': 3, 'containsNumbers': 0, 'avgWordLen': 6.5, 'labels': []}, {'length': 2, 'containsNumbers': 0, 'avgWordLen': 1.0, 'labels': []}, {'length': 7, 'containsNumbers': 0, 'avgWordLen': 5.333333333333333, 'labels': []}, {'length': 13, 'containsNumbers': 0, 'avgWordLen': 4.363636363636363, 'labels': []}, {'length': 20, 'containsNumbers': 0, 'avgWordLen': 5.388888888888889, 'labels': []}, {'length': 8, 'containsNumbers': 0, 'avgWordLen': 5.428571428571429, 'labels': []}, {'length': 8, 'containsNumbers': 0, 'avgWordLen': 4.857142857142857, 'labels': []}, {'length': 3, 'containsNumbers': 0, 'avgWordLen': 9.0, 'labels': []}, {'length': 12, 'containsNumbers': 0, 'avgWordLen': 4.545454545454546, 'labels': []}, {'length': 5, 'containsNumbers': 0, 'avgWordLen': 4.25, 'labels': []}, {'length': 2, 'containsNumbers': 0, 'avgWordLen': 1.0, 'labels': []}, {'length': 17, 'containsNumbers': 4, 'avgWordLen': 4.133333333333334, 'labels': [2022]}, {'length': 12, 'containsNumbers': 0, 'avgWordLen': 6.545454545454546, 'labels': [Venezuela]}, {'length': 12, 'containsNumbers': 0, 'avgWordLen': 4.363636363636363, 'labels': [Barcelona]}, {'length': 13, 'containsNumbers': 0, 'avgWordLen': 4.333333333333333, 'labels': []}, {'length': 16, 'containsNumbers': 0, 'avgWordLen': 4.266666666666667, 'labels': [Europa]}, {'length': 14, 'containsNumbers': 0, 'avgWordLen': 4.230769230769231, 'labels': [zes, acht jaar]}, {'length': 14, 'containsNumbers': 0, 'avgWordLen': 4.7272727272727275, 'labels': [dertigste]}, {'length': 15, 'containsNumbers': 4, 'avgWordLen': 4.214285714285714, 'labels': [70 tot, 75 procent]}, {'length': 23, 'containsNumbers': 0, 'avgWordLen': 5.2105263157894735, 'labels': []}, {'length': 10, 'containsNumbers': 0, 'avgWordLen': 4.444444444444445, 'labels': [Jan Oblak, Atlético Madrid]}, {'length': 24, 'containsNumbers': 0, 'avgWordLen': 4.454545454545454, 'labels': []}, {'length': 2, 'containsNumbers': 0, 'avgWordLen': 1.0, 'labels': []}, {'length': 8, 'containsNumbers': 0, 'avgWordLen': 6.0, 'labels': []}, {'length': 23, 'containsNumbers': 0, 'avgWordLen': 4.863636363636363, 'labels': [Kamal Sowah, Thomas Henry]}, {'length': 25, 'containsNumbers': 1, 'avgWordLen': 3.875, 'labels': [OH Leuven, eerste, vier]}, {'length': 11, 'containsNumbers': 1, 'avgWordLen': 3.7, 'labels': [1]}, {'length': 14, 'containsNumbers': 0, 'avgWordLen': 5.0, 'labels': []}, {'length': 8, 'containsNumbers': 0, 'avgWordLen': 4.428571428571429, 'labels': []}, {'length': 2, 'containsNumbers': 0, 'avgWordLen': 1.0, 'labels': []}]\n"
     ]
    }
   ],
   "source": [
    "def containsNumbers(sentence):\n",
    "    return len(re.findall('\\d', sentence.text))\n",
    "\n",
    "def avgWordLen(sentence):\n",
    "    if len(sentence.text.split()) == 0:\n",
    "        return 0\n",
    "    return sum(len(word) for word in sentence.text.split()) / len(sentence.text.split())\n",
    "\n",
    "def getParameters(sentences):\n",
    "    params = [dict() for x in range(len(sentences))]\n",
    "    for idx, sentence in enumerate(sentences):\n",
    "        params[idx]['length'] = len(sentence)\n",
    "        params[idx]['containsNumbers'] = containsNumbers(sentence)\n",
    "        params[idx]['avgWordLen'] = avgWordLen(sentence)\n",
    "        params[idx]['originalSentence'] = sentence.text\n",
    "        params[idx]['labels'] = sentence.ents\n",
    "        \n",
    "    print(params)\n",
    "getParameters(sentence_list)"
   ]
  },
  {
   "cell_type": "code",
   "execution_count": null,
   "metadata": {},
   "outputs": [],
   "source": []
  }
 ]
}