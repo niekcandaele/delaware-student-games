{
 "metadata": {
  "language_info": {
   "codemirror_mode": {
    "name": "ipython",
    "version": 3
   },
   "file_extension": ".py",
   "mimetype": "text/x-python",
   "name": "python",
   "nbconvert_exporter": "python",
   "pygments_lexer": "ipython3",
   "version": "3.8.5-final"
  },
  "orig_nbformat": 2,
  "kernelspec": {
   "name": "python3",
   "display_name": "Python 3.8.5 64-bit ('venv-dela': venv)",
   "metadata": {
    "interpreter": {
     "hash": "46d15abaffed259f5ec8674090e05e423f5b3461cc78fd798fed7fc79b446f8e"
    }
   }
  }
 },
 "nbformat": 4,
 "nbformat_minor": 2,
 "cells": [
  {
   "cell_type": "code",
   "execution_count": null,
   "metadata": {},
   "outputs": [],
   "source": [
    "import spacy\n",
    "from spacy.lang.nl.stop_words import STOP_WORDS\n",
    "from string import punctuation\n",
    "import re\n",
    "import pandas as pd\n",
    "from sklearn.preprocessing import OneHotEncoder\n",
    "from collections import Counter"
   ]
  },
  {
   "cell_type": "code",
   "execution_count": null,
   "metadata": {},
   "outputs": [],
   "source": [
    "nlp = spacy.load('nl_core_news_lg')"
   ]
  },
  {
   "cell_type": "code",
   "execution_count": null,
   "metadata": {},
   "outputs": [],
   "source": [
    "def containsNumbers(sentence):\n",
    "    return len(re.findall('\\d', sentence.text))\n",
    "\n",
    "def avgWordLen(sentence):\n",
    "    if len(sentence.text.split()) == 0:\n",
    "        return 0\n",
    "    return sum(len(word) for word in sentence.text.split()) / len(sentence.text.split())\n",
    "\n",
    "def isQuote(sentence):\n",
    "    return len(re.findall('\\\"\\w*\\\"', sentence.text))\n",
    "\n",
    "def encodeLabels(ents):\n",
    "    labels = pd.DataFrame()\n",
    "    for ent in ents:\n",
    "        labels.append([ent.label_, ent.text])\n",
    "    enc = OneHotEncoder(handle_unknown='ignore')\n",
    "    if len(labels) != 0:\n",
    "        enc.fit(labels)\n",
    "        return pd.DataFrame(enc.transform(labels), colums=enc.get_feature_names())\n",
    "    return []\n",
    "\n",
    "def getPos(token):\n",
    "    return token.pos\n",
    "\n",
    "def getWord(token):\n",
    "    return token.text\n",
    "\n",
    "def getParameters(sentences, expectedOutcome):\n",
    "    params = [dict() for x in range(len(sentences))]\n",
    "    for idx, sentence in enumerate(sentences):\n",
    "        params[idx]['length'] = len(sentence)\n",
    "        params[idx]['containsNumbers'] = containsNumbers(sentence)\n",
    "        params[idx]['avgWordLen'] = avgWordLen(sentence)\n",
    "        params[idx]['originalSentence'] = sentence.text\n",
    "        #params[idx]['labels'] = encodeLabels(sentence.ents)\n",
    "        params[idx]['isQuote'] = isQuote(sentence)\n",
    "        params[idx]['locationInText'] = idx/len(sentences)\n",
    "        if expectedOutcome == '0':\n",
    "            params[idx]['isExpected'] = None\n",
    "        else:\n",
    "            if sentence.text in expectedOutcome: \n",
    "                params[idx]['isExpected'] = True\n",
    "            else:\n",
    "                params[idx]['isExpected'] = False\n",
    "        \n",
    "        posTags = map(getPos,sentence)\n",
    "        counter = Counter(list(posTags))\n",
    "        for c in counter.most_common():\n",
    "            params[idx]['pos' + str(c[0])] = c[1]\n",
    "\n",
    "        wordFreq = map(getWord,sentence)\n",
    "        print(list(wordFreq))\n",
    "        counter = Counter(list(wordFreq))\n",
    "        for c in counter.most_common():\n",
    "            params[idx]['word' + str(c[0])] = c[1]\n",
    "\n",
    "    return params\n"
   ]
  },
  {
   "cell_type": "code",
   "execution_count": null,
   "metadata": {},
   "outputs": [],
   "source": [
    "dataset = pd.read_csv('TestData/DataSetArticles.csv')\n",
    "dataset = dataset.dropna()\n",
    "\n",
    "params = pd.DataFrame()\n",
    "\n",
    "for i, article in dataset.iterrows():\n",
    "    expected = article.EXPECTED_OUTCOME\n",
    "    #print(i, article)\n",
    "    docx = nlp(article.INTRO)\n",
    "    sentence_list = [ sentence for sentence in docx.sents ]\n",
    "    df = pd.DataFrame(data=getParameters(sentence_list, expected))\n",
    "    params = params.append(df, ignore_index=True)\n",
    "\n",
    "    docx = nlp(article.TEXT)\n",
    "    sentence_list = [ sentence for sentence in docx.sents ]\n",
    "    df = pd.DataFrame(data=getParameters(sentence_list, expected))\n",
    "    params = params.append(df, ignore_index=True)\n",
    "\n",
    "\n",
    "print(params.describe())\n",
    "params.to_csv('out.csv')"
   ]
  },
  {
   "cell_type": "code",
   "execution_count": null,
   "metadata": {},
   "outputs": [],
   "source": [
    "print(params.labels)"
   ]
  },
  {
   "cell_type": "code",
   "execution_count": null,
   "metadata": {},
   "outputs": [],
   "source": []
  }
 ]
}