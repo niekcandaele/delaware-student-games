{
 "metadata": {
  "language_info": {
   "codemirror_mode": {
    "name": "ipython",
    "version": 3
   },
   "file_extension": ".py",
   "mimetype": "text/x-python",
   "name": "python",
   "nbconvert_exporter": "python",
   "pygments_lexer": "ipython3",
   "version": "3.8.5-final"
  },
  "orig_nbformat": 2,
  "kernelspec": {
   "name": "python3",
   "display_name": "Python 3.8.5 64-bit ('venv-dela')",
   "metadata": {
    "interpreter": {
     "hash": "ca0737f5b88dd85a0146d8152447f99944a0010f3932bb9f7612e04678daaba1"
    }
   }
  }
 },
 "nbformat": 4,
 "nbformat_minor": 2,
 "cells": [
  {
   "cell_type": "code",
   "execution_count": 2,
   "metadata": {},
   "outputs": [],
   "source": [
    "import spacy\n",
    "from spacy.lang.nl.stop_words import STOP_WORDS\n",
    "from string import punctuation\n",
    "import re\n",
    "import pandas as pd\n",
    "from sklearn.preprocessing import OneHotEncoder\n",
    "from collections import Counter"
   ]
  },
  {
   "cell_type": "code",
   "execution_count": 3,
   "metadata": {},
   "outputs": [],
   "source": [
    "nlp = spacy.load('nl_core_news_lg')"
   ]
  },
  {
   "cell_type": "code",
   "execution_count": 11,
   "metadata": {},
   "outputs": [],
   "source": [
    "def containsNumbers(sentence):\n",
    "    return len(re.findall('\\d', sentence.text))\n",
    "\n",
    "def avgWordLen(sentence):\n",
    "    if len(sentence.text.split()) == 0:\n",
    "        return 0\n",
    "    return sum(len(word) for word in sentence.text.split()) / len(sentence.text.split())\n",
    "\n",
    "def isQuote(sentence):\n",
    "    return len(re.findall('\\\"\\w*\\\"', sentence.text))\n",
    "\n",
    "def encodeLabels(ents):\n",
    "    labels = pd.DataFrame()\n",
    "    for ent in ents:\n",
    "        labels.append([ent.label_, ent.text])\n",
    "    enc = OneHotEncoder(handle_unknown='ignore')\n",
    "    if len(labels) != 0:\n",
    "        enc.fit(labels)\n",
    "        return pd.DataFrame(enc.transform(labels), colums=enc.get_feature_names())\n",
    "    return []\n",
    "\n",
    "def getPos(token):\n",
    "    return token.pos\n",
    "\n",
    "def getWord(token):\n",
    "    return token.text\n",
    "\n",
    "def getParameters(sentences, expectedOutcome):\n",
    "    params = [dict() for x in range(len(sentences))]\n",
    "    for idx, sentence in enumerate(sentences):\n",
    "        params[idx]['length'] = len(sentence)\n",
    "        params[idx]['containsNumbers'] = containsNumbers(sentence)\n",
    "        params[idx]['avgWordLen'] = avgWordLen(sentence)\n",
    "        #params[idx]['originalSentence'] = sentence.text\n",
    "        #params[idx]['labels'] = encodeLabels(sentence.ents)\n",
    "        #params[idx]['isQuote'] = isQuote(sentence)\n",
    "        params[idx]['locationInText'] = idx/len(sentences)\n",
    "        if expectedOutcome == '0':\n",
    "            params[idx]['isExpected'] = None\n",
    "        else:\n",
    "            if sentence.text in expectedOutcome: \n",
    "                params[idx]['isExpected'] = True\n",
    "            else:\n",
    "                params[idx]['isExpected'] = False\n",
    "        \n",
    "        posTags = map(getPos,sentence)\n",
    "        counter = Counter(list(posTags))\n",
    "        for c in counter.most_common():\n",
    "            params[idx]['pos' + str(c[0])] = c[1]\n",
    "\n",
    "        #wordFreq = map(getWord,sentence)\n",
    "        #print(list(wordFreq))\n",
    "        #counter = Counter(list(wordFreq))\n",
    "        #for c in counter.most_common():\n",
    "        #    params[idx]['word' + str(c[0])] = c[1]\n",
    "\n",
    "    return params\n"
   ]
  },
  {
   "cell_type": "code",
   "execution_count": 12,
   "metadata": {},
   "outputs": [
    {
     "output_type": "stream",
     "name": "stdout",
     "text": [
      "             length  containsNumbers    avgWordLen  isQuote  locationInText  \\\ncount  12643.000000     12643.000000  12643.000000  12643.0    12643.000000   \nmean      13.183896         0.392787      4.732445      0.0        0.492486   \nstd        9.182670         1.431045      2.005446      0.0        0.289200   \nmin        1.000000         0.000000      0.000000      0.0        0.000000   \n25%        6.000000         0.000000      4.250000      0.0        0.243590   \n50%       12.000000         0.000000      5.000000      0.0        0.493827   \n75%       19.000000         0.000000      5.687500      0.0        0.742915   \nmax       73.000000        22.000000     22.000000      0.0        0.996516   \n\n             pos92        pos90         pos97        pos86        pos87  ...  \\\ncount  9417.000000  7987.000000  11512.000000  6673.000000  5621.000000  ...   \nmean      2.830944     2.111681      1.746265     1.771767     1.330368  ...   \nstd       1.775436     1.280984      1.098084     1.040214     0.627584  ...   \nmin       1.000000     1.000000      1.000000     1.000000     1.000000  ...   \n25%       1.000000     1.000000      1.000000     1.000000     1.000000  ...   \n50%       2.000000     2.000000      1.000000     1.000000     1.000000  ...   \n75%       4.000000     3.000000      2.000000     2.000000     2.000000  ...   \nmax      17.000000    10.000000     15.000000     8.000000     7.000000  ...   \n\n       wordBolero  wordonlinebroker  wordEuronext  wordpopulairste  \\\ncount         1.0               1.0           1.0              1.0   \nmean          1.0               1.0           1.0              1.0   \nstd           NaN               NaN           NaN              NaN   \nmin           1.0               1.0           1.0              1.0   \n25%           1.0               1.0           1.0              1.0   \n50%           1.0               1.0           1.0              1.0   \n75%           1.0               1.0           1.0              1.0   \nmax           1.0               1.0           1.0              1.0   \n\n       wordbeursorders  wordDeutsche  wordbezitten  wordpopulariteit  \\\ncount              1.0           1.0           1.0               1.0   \nmean               1.0           1.0           1.0               1.0   \nstd                NaN           NaN           NaN               NaN   \nmin                1.0           1.0           1.0               1.0   \n25%                1.0           1.0           1.0               1.0   \n50%                1.0           1.0           1.0               1.0   \n75%                1.0           1.0           1.0               1.0   \nmax                1.0           1.0           1.0               1.0   \n\n       wordDexia  wordbeslommeringen  \ncount        1.0                 1.0  \nmean         1.0                 1.0  \nstd          NaN                 NaN  \nmin          1.0                 1.0  \n25%          1.0                 1.0  \n50%          1.0                 1.0  \n75%          1.0                 1.0  \nmax          1.0                 1.0  \n\n[8 rows x 19341 columns]\n"
     ]
    }
   ],
   "source": [
    "dataset = pd.read_csv('TestData/DataSetArticles.csv')\n",
    "dataset = dataset.dropna()\n",
    "\n",
    "params = pd.DataFrame()\n",
    "\n",
    "for i, article in dataset.iterrows():\n",
    "    expected = article.EXPECTED_OUTCOME\n",
    "    #print(i, article)\n",
    "    docx = nlp(article.INTRO)\n",
    "    sentence_list = [ sentence for sentence in docx.sents ]\n",
    "    df = pd.DataFrame(data=getParameters(sentence_list, expected))\n",
    "    params = params.append(df, ignore_index=True)\n",
    "\n",
    "    docx = nlp(article.TEXT)\n",
    "    sentence_list = [ sentence for sentence in docx.sents ]\n",
    "    df = pd.DataFrame(data=getParameters(sentence_list, expected))\n",
    "    params = params.append(df, ignore_index=True)\n",
    "\n",
    "\n",
    "print(params.describe())\n",
    "params.to_csv('out.csv')"
   ]
  },
  {
   "cell_type": "code",
   "execution_count": 6,
   "metadata": {},
   "outputs": [
    {
     "output_type": "error",
     "ename": "AttributeError",
     "evalue": "'DataFrame' object has no attribute 'labels'",
     "traceback": [
      "\u001b[0;31m---------------------------------------------------------------------------\u001b[0m",
      "\u001b[0;31mAttributeError\u001b[0m                            Traceback (most recent call last)",
      "\u001b[0;32m<ipython-input-6-52b4ccd04715>\u001b[0m in \u001b[0;36m<module>\u001b[0;34m\u001b[0m\n\u001b[0;32m----> 1\u001b[0;31m \u001b[0mprint\u001b[0m\u001b[0;34m(\u001b[0m\u001b[0mparams\u001b[0m\u001b[0;34m.\u001b[0m\u001b[0mlabels\u001b[0m\u001b[0;34m)\u001b[0m\u001b[0;34m\u001b[0m\u001b[0;34m\u001b[0m\u001b[0m\n\u001b[0m",
      "\u001b[0;32m~/code/Delaware/venv-dela/lib/python3.8/site-packages/pandas/core/generic.py\u001b[0m in \u001b[0;36m__getattr__\u001b[0;34m(self, name)\u001b[0m\n\u001b[1;32m   5463\u001b[0m             \u001b[0;32mif\u001b[0m \u001b[0mself\u001b[0m\u001b[0;34m.\u001b[0m\u001b[0m_info_axis\u001b[0m\u001b[0;34m.\u001b[0m\u001b[0m_can_hold_identifiers_and_holds_name\u001b[0m\u001b[0;34m(\u001b[0m\u001b[0mname\u001b[0m\u001b[0;34m)\u001b[0m\u001b[0;34m:\u001b[0m\u001b[0;34m\u001b[0m\u001b[0;34m\u001b[0m\u001b[0m\n\u001b[1;32m   5464\u001b[0m                 \u001b[0;32mreturn\u001b[0m \u001b[0mself\u001b[0m\u001b[0;34m[\u001b[0m\u001b[0mname\u001b[0m\u001b[0;34m]\u001b[0m\u001b[0;34m\u001b[0m\u001b[0;34m\u001b[0m\u001b[0m\n\u001b[0;32m-> 5465\u001b[0;31m             \u001b[0;32mreturn\u001b[0m \u001b[0mobject\u001b[0m\u001b[0;34m.\u001b[0m\u001b[0m__getattribute__\u001b[0m\u001b[0;34m(\u001b[0m\u001b[0mself\u001b[0m\u001b[0;34m,\u001b[0m \u001b[0mname\u001b[0m\u001b[0;34m)\u001b[0m\u001b[0;34m\u001b[0m\u001b[0;34m\u001b[0m\u001b[0m\n\u001b[0m\u001b[1;32m   5466\u001b[0m \u001b[0;34m\u001b[0m\u001b[0m\n\u001b[1;32m   5467\u001b[0m     \u001b[0;32mdef\u001b[0m \u001b[0m__setattr__\u001b[0m\u001b[0;34m(\u001b[0m\u001b[0mself\u001b[0m\u001b[0;34m,\u001b[0m \u001b[0mname\u001b[0m\u001b[0;34m:\u001b[0m \u001b[0mstr\u001b[0m\u001b[0;34m,\u001b[0m \u001b[0mvalue\u001b[0m\u001b[0;34m)\u001b[0m \u001b[0;34m->\u001b[0m \u001b[0;32mNone\u001b[0m\u001b[0;34m:\u001b[0m\u001b[0;34m\u001b[0m\u001b[0;34m\u001b[0m\u001b[0m\n",
      "\u001b[0;31mAttributeError\u001b[0m: 'DataFrame' object has no attribute 'labels'"
     ]
    }
   ],
   "source": [
    "print(params.labels)"
   ]
  },
  {
   "cell_type": "code",
   "execution_count": null,
   "metadata": {},
   "outputs": [],
   "source": []
  }
 ]
}