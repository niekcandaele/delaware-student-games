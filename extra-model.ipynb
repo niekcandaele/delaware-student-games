{
 "metadata": {
  "language_info": {
   "codemirror_mode": {
    "name": "ipython",
    "version": 3
   },
   "file_extension": ".py",
   "mimetype": "text/x-python",
   "name": "python",
   "nbconvert_exporter": "python",
   "pygments_lexer": "ipython3",
   "version": "3.8.5-final"
  },
  "orig_nbformat": 2,
  "kernelspec": {
   "name": "python3",
   "display_name": "Python 3.8.5 64-bit ('venv-dela': venv)",
   "metadata": {
    "interpreter": {
     "hash": "46d15abaffed259f5ec8674090e05e423f5b3461cc78fd798fed7fc79b446f8e"
    }
   }
  }
 },
 "nbformat": 4,
 "nbformat_minor": 2,
 "cells": [
  {
   "cell_type": "code",
   "execution_count": 177,
   "metadata": {},
   "outputs": [],
   "source": [
    "import spacy\n",
    "from spacy.lang.nl.stop_words import STOP_WORDS\n",
    "from string import punctuation\n",
    "import re\n",
    "import pandas as pd\n",
    "from sklearn.preprocessing import OneHotEncoder"
   ]
  },
  {
   "cell_type": "code",
   "execution_count": 178,
   "metadata": {},
   "outputs": [],
   "source": [
    "nlp = spacy.load('nl_core_news_lg')"
   ]
  },
  {
   "cell_type": "code",
   "execution_count": 196,
   "metadata": {},
   "outputs": [],
   "source": [
    "def containsNumbers(sentence):\n",
    "    return len(re.findall('\\d', sentence.text))\n",
    "\n",
    "def avgWordLen(sentence):\n",
    "    if len(sentence.text.split()) == 0:\n",
    "        return 0\n",
    "    return sum(len(word) for word in sentence.text.split()) / len(sentence.text.split())\n",
    "\n",
    "def isQuote(sentence):\n",
    "    return len(re.findall('\\\"\\w*\\\"', sentence.text))\n",
    "\n",
    "def encodeLabels(ents):\n",
    "    labels = pd.DataFrame()\n",
    "    for ent in ents:\n",
    "        labels.append([ent.label_, ent.text])\n",
    "    enc = OneHotEncoder(handle_unknown='ignore')\n",
    "    if len(labels) != 0:\n",
    "        enc.fit(labels)\n",
    "        return pd.DataFrame(enc.transform(labels), colums=enc.get_feature_names())\n",
    "    return []\n",
    "\n",
    "def getParameters(sentences, expectedOutcome):\n",
    "    params = [dict() for x in range(len(sentences))]\n",
    "    for idx, sentence in enumerate(sentences):\n",
    "        params[idx]['length'] = len(sentence)\n",
    "        params[idx]['containsNumbers'] = containsNumbers(sentence)\n",
    "        params[idx]['avgWordLen'] = avgWordLen(sentence)\n",
    "        params[idx]['originalSentence'] = sentence.text\n",
    "        #params[idx]['labels'] = encodeLabels(sentence.ents)\n",
    "        params[idx]['isQuote'] = isQuote(sentence)\n",
    "        params[idx]['locationInText'] = idx/len(sentences)\n",
    "        if expectedOutcome == '0':\n",
    "            params[idx]['isExpected'] = None\n",
    "        else:\n",
    "            if sentence.text in expectedOutcome: \n",
    "                params[idx]['isExpected'] = True\n",
    "            else:\n",
    "                params[idx]['isExpected'] = False\n",
    "       \n",
    "    return params\n"
   ]
  },
  {
   "cell_type": "code",
   "execution_count": 197,
   "metadata": {},
   "outputs": [
    {
     "output_type": "stream",
     "name": "stdout",
     "text": [
      "             length  containsNumbers    avgWordLen  isQuote  locationInText\ncount  12643.000000     12643.000000  12643.000000  12643.0    12643.000000\nmean      13.183896         0.392787      4.732445      0.0        0.492486\nstd        9.182670         1.431045      2.005446      0.0        0.289200\nmin        1.000000         0.000000      0.000000      0.0        0.000000\n25%        6.000000         0.000000      4.250000      0.0        0.243590\n50%       12.000000         0.000000      5.000000      0.0        0.493827\n75%       19.000000         0.000000      5.687500      0.0        0.742915\nmax       73.000000        22.000000     22.000000      0.0        0.996516\n"
     ]
    }
   ],
   "source": [
    "dataset = pd.read_csv('TestData/DataSetArticles.csv')\n",
    "dataset = dataset.dropna()\n",
    "\n",
    "params = pd.DataFrame()\n",
    "\n",
    "for i, article in dataset.iterrows():\n",
    "    expected = article.EXPECTED_OUTCOME\n",
    "    #print(i, article)\n",
    "    docx = nlp(article.INTRO)\n",
    "    sentence_list = [ sentence for sentence in docx.sents ]\n",
    "    df = pd.DataFrame(data=getParameters(sentence_list, expected))\n",
    "    params = params.append(df, ignore_index=True)\n",
    "\n",
    "    docx = nlp(article.TEXT)\n",
    "    sentence_list = [ sentence for sentence in docx.sents ]\n",
    "    df = pd.DataFrame(data=getParameters(sentence_list, expected))\n",
    "    params = params.append(df, ignore_index=True)\n",
    "\n",
    "\n",
    "print(params.describe())\n",
    "params.to_csv('out.csv')"
   ]
  },
  {
   "cell_type": "code",
   "execution_count": 183,
   "metadata": {},
   "outputs": [
    {
     "output_type": "stream",
     "name": "stdout",
     "text": [
      "0                                                       []\n1                                                       []\n2                                                       []\n3        {'categories': 'auto', 'drop': None, 'dtype': ...\n4                                                       []\n                               ...                        \n12638                                                   []\n12639    {'categories': 'auto', 'drop': None, 'dtype': ...\n12640                                                   []\n12641    {'categories': 'auto', 'drop': None, 'dtype': ...\n12642                                                   []\nName: labels, Length: 12643, dtype: object\n"
     ]
    }
   ],
   "source": [
    "print(params.labels)"
   ]
  },
  {
   "cell_type": "code",
   "execution_count": null,
   "metadata": {},
   "outputs": [],
   "source": []
  }
 ]
}