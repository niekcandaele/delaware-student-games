{
 "metadata": {
  "language_info": {
   "codemirror_mode": {
    "name": "ipython",
    "version": 3
   },
   "file_extension": ".py",
   "mimetype": "text/x-python",
   "name": "python",
   "nbconvert_exporter": "python",
   "pygments_lexer": "ipython3",
   "version": "3.8.5-final"
  },
  "orig_nbformat": 2,
  "kernelspec": {
   "name": "python3",
   "display_name": "Python 3.8.5 64-bit ('venv-dela': venv)",
   "metadata": {
    "interpreter": {
     "hash": "46d15abaffed259f5ec8674090e05e423f5b3461cc78fd798fed7fc79b446f8e"
    }
   }
  }
 },
 "nbformat": 4,
 "nbformat_minor": 2,
 "cells": [
  {
   "cell_type": "code",
   "execution_count": null,
   "metadata": {},
   "outputs": [],
   "source": [
    "# pip install transformers"
   ]
  },
  {
   "cell_type": "code",
   "execution_count": 1,
   "metadata": {},
   "outputs": [],
   "source": [
    "from transformers import pipeline"
   ]
  },
  {
   "cell_type": "code",
   "execution_count": 4,
   "metadata": {},
   "outputs": [
    {
     "output_type": "stream",
     "name": "stderr",
     "text": [
      "Your max_length is set to 20, but you input_length is only 13. You might consider decreasing max_length manually, e.g. summarizer('...', max_length=50)\n"
     ]
    },
    {
     "output_type": "execute_result",
     "data": {
      "text/plain": [
       "[{'summary_text': ' Hallo, versta jij jij nederlands? Hallo. Hall'}]"
      ]
     },
     "metadata": {},
     "execution_count": 4
    }
   ],
   "source": [
    "summarizer = pipeline(\"summarization\")\n",
    "summarizer(\"Hallo, versta jij nederlands?\", min_length=5, max_length=20)"
   ]
  },
  {
   "cell_type": "code",
   "execution_count": 5,
   "metadata": {},
   "outputs": [
    {
     "output_type": "error",
     "ename": "SyntaxError",
     "evalue": "EOF while scanning triple-quoted string literal (<ipython-input-5-d6d1c5071ba7>, line 1)",
     "traceback": [
      "\u001b[0;36m  File \u001b[0;32m\"<ipython-input-5-d6d1c5071ba7>\"\u001b[0;36m, line \u001b[0;32m1\u001b[0m\n\u001b[0;31m    articleText = \"\"\"\u001b[0m\n\u001b[0m                     ^\u001b[0m\n\u001b[0;31mSyntaxError\u001b[0m\u001b[0;31m:\u001b[0m EOF while scanning triple-quoted string literal\n"
     ]
    }
   ],
   "source": [
    "articleText = \"\"\"\n",
    "Vraag 1: Waar winkelen we na corona?\n",
    "    Kleine steden krijgen grootste klap\n",
    "    ‘De covid-19-crisis hakt flink in op het winkelvastgoed”, signaleert Boris van Haare Heijmeijer, retailexpert van de Nederlandse vastgoedinvesteerder ProWinko. “Veel consumenten hebben tijdens de lockdown voor het eerst e-commerce ontdekt en hebben de smaak te pakken. De aankoop van goederen via het internet is in die periode met een derde gestegen. Die sprong voorwaarts werd pas over drie jaar verwacht. Voor enkele winkels en ketens leidt meer e-commerce tot een omzetdaling, die hen de das kan omdoen. Let wel: fysieke winkels blijven belangrijk op toplocaties. De Antwerpse Meir blijft na deze crisis nog altijd de place to be.” \n",
    "      Corona had nog een tweede effect. “De bevolking bleef uit schrik voor een besmetting zo veel mogelijk weg uit de winkelstraten en de shoppingcentra”, zegt Luc Plasman, directeur van de Belgisch-Luxemburgse Raad voor Retail en Winkelcentra. “Er werd doelgericht gewinkeld: een retailpark binnenrijden, kopen en terug naar huis.” “Consumenten hebben de weg naar de snelle aankoop leren kennen. Die komen terug”, zegt Jan De Nys, de CEO van Retail Estates, dat investeert in dat segment.  \n",
    "    \n",
    "    Communicerende vaten \n",
    "    Een derde verschuiving gebeurde in het type aankopen. De vastgoedmakelaar Cushman & Wakefield spreekt over “communicerende vaten” tussen de dalende winkelbezoeken voor kleding en schoenen en de toenemende winkelbezoeken voor voeding, sport- en huishoudartikelen. De Nys: “Kledingketens raakten hun voorjaarscollectie aan de straatstenen niet kwijt. De omzet van de feestkleding denderde naar beneden. De klassieke mannenkleding deed het heel slecht. Wie wil er een nieuw maatpak als hij enkel digitaal vergadert? Als 10 tot 15 procent van de goederen niet wordt verkocht, vreet dat aan het kapitaal van de kledingketens. Zij hopen op een sterke kerst in 2021, maar het wordt moeilijk.” \n",
    "      Voeding zal het beter blijven doen, verwacht Stefan De Bock, de CEO van Forum Estates, een vastgoedinvesteerder in voornamelijk supermarkten. “Er werd meer gekookt. Mensen kochten meer dan ooit vers in de binnenstedelijke buurtsupermarkt en wekelijks in de grote supermarkt met een parking. Deels thuiswerken blijft ook na de coronacrisis ingeburgerd. Ik verwacht dan ook dat buurtwinkels het beter blijven doen.” \n",
    "    \n",
    "    Minder kledingwinkels \n",
    "    De voorbije maanden kwamen Belgische kledingketens in de problemen. “Alle ketens moeten saneren om te overleven”, zegt Boris van Haare Heijmeijer. Die saneringen zullen wegen op het vestigingsbeleid, voorspelt Koenraad Van Nieuwenburg, chief investment officer van Retail Estates. “Ketens betaalden voor een flagshipstore in een winkelcentrum jaarlijks 1500 euro huur per vierkante meter, plus nog eens de helft voor bewaking, gemeenschapsvoorzieningen en verlichting. Dan wordt een goed bereikbare baanwinkel met een jaarlijkse huurprijs van 100 euro per vierkante meter plus 5 euro kosten plots heel aantrekkelijk.” \n",
    "      “Ketens met voldoende kapitaal, zeker als ze goed liggen bij de consument, zullen overleven”, voorspelt Van Haare Heijmeijer. “H&M, Zara en andere grote ketens zullen wat kleinere, minder rendabele filialen sluiten en investeren in grote winkels in centrumsteden. Die blijven een bestaansreden hebben, ook omdat consumenten er producten uitzoeken die ze later digitaal bestellen. De internetaankopen van een keten verdubbelen door de aanwezigheid van een winkel in een regio.” \n",
    "      Dat vertaalt zich in de huurprijzen, heeft Arnaud de Bergeyck van Cushman & Wakefield berekend. Het voorbije jaar daalden de huurprijzen 10 à 15 procent op stedelijke toplocaties, zoals de Meir in Antwerpen en de Nieuwstraat in Brussel (richthuurprijs van 1600 euro per vierkante meter per jaar) en in shoppingcentra (1150 euro). “De secundaire markten in sommige kleine steden zagen vorig jaar een daling van 30 procent. De prijzen variëren van 100 euro in Lier tot 400 euro in Mechelen.”  \n",
    "      Fast fashions \n",
    "      Veel kledingketens speuren de periferie af voor een goedkoop alternatief, signaleert De Nys. “Veel stadscentra zullen, zeker voor een tijd, heel wat minder divers worden.” Dat is een gevolg van het overaanbod van kledingketens in centrum- en kleine steden. “Winkeleigenaars hebben massaal verhuurd aan vooral fastfashionketens”, weet De Nys. Dat zijn ketens zoals H&M of Primark, die mikken op goedkope kleding, vaak geproduceerd in lagelonenlanden. Ze halen hun winst vooral op de massaverkoop met lage marges, in tegenstelling tot highfashionketens die een hoger rendement boeken op kwaliteitsmerken. “Fast fashion verdrong de betere kledingzaken, elektro- en boekenwinkels in de kleine steden naar de periferie”, zegt De Nys. “Hunkemöller, Kruidvat en Standaard Boekhandel zitten nu bij ons, waar ze voor een veel minder complex pand de helft van de handelshuurprijs betalen dan in steden als Waregem, Diest en Leuven. Zij zullen niet terugkeren naar de vaak minder aantrekkelijke steden.” \n",
    "      Dat kan zware gevolgen hebben, vreest professor Maarten Van Acker van de Onderzoeksgroep voor Stadsontwikkeling aan de Universiteit Antwerpen. “Het is cruciaal voor hun leefbaarheid dat kleine steden zoals Oostende, Roeselare en Mol hun handelskernen behouden. In sommige heersen door de leegstand schrijnende toestanden. Het zal er niet op verbeteren door de crisis van het voorbije jaar en de economische moeilijkheden die we nog kunnen verwachten. Leegstand leidt tot een exponentiële verloedering van die handelskernen.”   \n",
    "\"\"\"\n",
    "\n",
    "summarizer(articleText, min_length=5, max_length=20)"
   ]
  },
  {
   "cell_type": "code",
   "execution_count": null,
   "metadata": {},
   "outputs": [],
   "source": []
  }
 ]
}